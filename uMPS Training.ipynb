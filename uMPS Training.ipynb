{
 "cells": [
  {
   "cell_type": "code",
   "execution_count": null,
   "metadata": {},
   "outputs": [],
   "source": [
    "'''\n",
    "Inputs:\n",
    "parameters\n",
    "\n",
    "timeseries in ()\n",
    "\n",
    "Things to adjust:\n",
    "generate_starting_MPS\n",
    "\n",
    "\n",
    "\n",
    "Questions Caching\n",
    "\n",
    "\n",
    "'''"
   ]
  }
 ],
 "metadata": {
  "language_info": {
   "name": "python"
  }
 },
 "nbformat": 4,
 "nbformat_minor": 2
}
