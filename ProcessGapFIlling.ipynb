{
 "cells": [
  {
   "cell_type": "code",
   "execution_count": 2,
   "metadata": {},
   "outputs": [],
   "source": [
    "using MPSTime\n",
    "using Random\n",
    "using Plots\n",
    "using PrettyTables\n",
    "using Zygote\n",
    "using Distributions\n",
    "using ITensors\n",
    "using Base.Threads\n",
    "\n",
    "rng = Xoshiro(1)\n",
    "\n",
    "opts = MPSOptions(d = 10, chi_max = 40, sigmoid_transform = false)\n",
    "\n",
    "ntimepoints = 10\n",
    "ntrain_instances = 500\n",
    "ntest_instances = 300\n",
    "\n",
    "sigma = 0;"
   ]
  },
  {
   "cell_type": "code",
   "execution_count": null,
   "metadata": {},
   "outputs": [],
   "source": [
    "X_train, _ = trendy_sine(ntimepoints, ntrain_instances; sigma = sigma, rng = rng);\n",
    "X_test, _ = trendy_sine(ntimepoints, ntest_instances; sigma = sigma, rng = rng);"
   ]
  },
  {
   "cell_type": "code",
   "execution_count": 8,
   "metadata": {},
   "outputs": [
    {
     "data": {
      "text/plain": [
       "twoD_feature_map (generic function with 1 method)"
      ]
     },
     "metadata": {},
     "output_type": "display_data"
    }
   ],
   "source": [
    "function twoD_feature_map(x::Float64)\n",
    "\tstate = Vector{Float64}([cos(pi / 2 * x), sin(pi / 2 * x)])\n",
    "\treturn state\n",
    "end"
   ]
  },
  {
   "cell_type": "code",
   "execution_count": 38,
   "metadata": {},
   "outputs": [
    {
     "data": {
      "text/plain": [
       "adlegendre_feature_map (generic function with 3 methods)"
      ]
     },
     "metadata": {},
     "output_type": "display_data"
    }
   ],
   "source": [
    "function adlegendre_feature_map(x::Float64, dim::Int64, norm=true)\n",
    "    \"\"\" N states mapping \"\"\"\n",
    "\n",
    "    state = Array{Float64, 1}(undef, dim)\n",
    "    state[1] = 1\n",
    "    state[2] = x\n",
    "    for i in 3:dim\n",
    "        state[i] = ((2 * i - 1) * x * state[i-1] - (i - 1) * state[i-2]) / i\n",
    "    end\n",
    "\n",
    "    if (norm == true)\n",
    "        state = sqrt(dim + 0.5) .* state\n",
    "    end\n",
    "\n",
    "    return state\n",
    "end  "
   ]
  },
  {
   "cell_type": "code",
   "execution_count": null,
   "metadata": {},
   "outputs": [],
   "source": []
  },
  {
   "cell_type": "code",
   "execution_count": null,
   "metadata": {},
   "outputs": [
    {
     "name": "stdout",
     "output_type": "stream",
     "text": [
      "Generating initial weight MPS with bond dimension χ_init = 4\n",
      "        using random state 1234.\n",
      "Initialising train states.\n",
      "Using 1 iterations per update.\n",
      "Training KL Div. 14.555960013828624 | Training acc. 1.0.\n",
      "Using optimiser CustomGD with the \"TSGO\" algorithm\n",
      "Starting backward sweeep: [1/5]\n",
      "Backward sweep finished.\n",
      "Starting forward sweep: [1/5]\n",
      "Finished sweep 1. Time for sweep: 35.43s\n",
      "Training KL Div. -0.6141226945387014 | Training acc. 1.0.\n"
     ]
    }
   ],
   "source": [
    "mps, info, test_states = fitMPS(X_train, opts);"
   ]
  },
  {
   "cell_type": "code",
   "execution_count": null,
   "metadata": {},
   "outputs": [],
   "source": [
    "class = 0\n",
    "instance_idx = 10\n",
    "impute_sites = [ntimepoints]\n",
    "method = :ITS\n",
    "imp = init_imputation_problem(mps,X_test);"
   ]
  },
  {
   "cell_type": "code",
   "execution_count": null,
   "metadata": {},
   "outputs": [],
   "source": [
    "imputed_ts, pred_err, target_ts, stats, nice_plots = MPS_impute(imp, class, instance_idx, impute_sites, method; plot_fits = true, num_trajectories = 10, rejection_threshold = 2.5);"
   ]
  },
  {
   "cell_type": "code",
   "execution_count": null,
   "metadata": {},
   "outputs": [],
   "source": [
    "pretty_table(stats[1]; header = [\"Metric\", \"Value\"], header_crayon = crayon\"yellow bold\", tf = tf_unicode_rounded)"
   ]
  },
  {
   "cell_type": "code",
   "execution_count": null,
   "metadata": {},
   "outputs": [],
   "source": [
    "plot(nice_plots...)"
   ]
  }
 ],
 "metadata": {
  "kernelspec": {
   "display_name": "Julia 1.11.1",
   "language": "julia",
   "name": "julia-1.11"
  },
  "language_info": {
   "file_extension": ".jl",
   "mimetype": "application/julia",
   "name": "julia",
   "version": "1.11.1"
  }
 },
 "nbformat": 4,
 "nbformat_minor": 2
}
